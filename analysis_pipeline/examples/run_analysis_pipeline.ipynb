{
 "cells": [
  {
   "cell_type": "markdown",
   "id": "adjacent-series",
   "metadata": {},
   "source": [
    "# Load required modules\n",
    "\n",
    "* [Link to SOP](https://docs.google.com/document/d/1Oi2pUYFsxWAtLrsqoprCOqMYejmTCKDhwDJGekK00Og/edit)\n",
    "* https://docs.google.com/document/d/1PU1OUlR6i1fGRnLsv8iYXmmY_byGu2kccWzCMyY922o/edit"
   ]
  },
  {
   "cell_type": "code",
   "execution_count": 3,
   "id": "fuzzy-jaguar",
   "metadata": {},
   "outputs": [
    {
     "name": "stdout",
     "output_type": "stream",
     "text": [
      "The autoreload extension is already loaded. To reload it, use:\n",
      "  %reload_ext autoreload\n"
     ]
    }
   ],
   "source": [
    "%load_ext autoreload\n",
    "%autoreload 2\n",
    "%matplotlib inline\n",
    "import sys, os\n",
    "import pickle\n",
    "import numpy as np\n",
    "import matplotlib.pyplot as plt\n",
    "import pandas as pd\n",
    "\n",
    "cwd = os.getcwd()\n",
    "slash_idx = [i for i,l in enumerate(cwd) if l=='/']\n",
    "repo_dir = cwd[:slash_idx[-1]]\n",
    "if repo_dir not in sys.path: sys.path.append(repo_dir)\n",
    "\n",
    "from analysis_pipeline.dataset_creation import DatasetCreation \n",
    "from analysis_pipeline.analysis_pipeline import AnalysisPipeline\n",
    "from analytics_utils.lims_tools.lims_utils import get_plate_runs, plates_from_exp, plates_from_workflow\n",
    "from analytics_utils.database_access.s3_interface import download_from_s3, upload_to_s3, s3_imgupload, s3_df2csv, s3_csv2df\n",
    "from analytics_utils.database_access.table_properties import * \n",
    "pd.set_option('display.max_columns', None)\n",
    "\n",
    "dataset_folder = '../DATASETS/'\n",
    "results_folder = '../detectionspipeline_results/'\n",
    "models_folder = '../MODELS/'\n",
    "s3_bucket = 'ml-analytics-filestore' \n",
    "s3_subbucket = '' # 'exerevnetes-preprocessing-models/'"
   ]
  },
  {
   "cell_type": "markdown",
   "id": "endangered-consumption",
   "metadata": {},
   "source": [
    "# Fetch plates associated with an experiment barcode or workflow barcode"
   ]
  },
  {
   "cell_type": "code",
   "execution_count": null,
   "id": "boring-civilian",
   "metadata": {},
   "outputs": [],
   "source": [
    "exp_workflow_barcode = 'WF10125' # None # 'EXP10088' #\n",
    "if exp_workflow_barcode is not None:\n",
    "    if 'EXP' in exp_workflow_barcode:\n",
    "        plate_list = plates_from_exp(exp_workflow_barcode, 'hts')\n",
    "    elif 'WF' in exp_workflow_barcode:\n",
    "        plate_list = plates_from_workflow(exp_workflow_barcode, 'hts')\n",
    "else: \n",
    "    # define plate list\n",
    "    plate_list = ['PLT17136']\n",
    "\n",
    "print(f\"Plate list: {plate_list}\")"
   ]
  },
  {
   "cell_type": "markdown",
   "id": "innocent-hundred",
   "metadata": {},
   "source": [
    "# 1. Train models"
   ]
  },
  {
   "cell_type": "markdown",
   "id": "modern-trader",
   "metadata": {},
   "source": [
    "## Create dataset & Train hits prediction models"
   ]
  },
  {
   "cell_type": "code",
   "execution_count": null,
   "id": "unable-marine",
   "metadata": {},
   "outputs": [],
   "source": [
    "project_subfolder = 'Phoenix-prod_Unit2' # 'Phoenix-prod_Unit2-3-4-5-6-7-retest-8-9-10-11' # \n",
    "s3_subfolder = f'{s3_subbucket}{project_subfolder}/'\n",
    "model_fname_suffix = '_chiral' # ''\n",
    "model_fname = f'Maldi12Classification-LcmsRegression_{project_subfolder}{model_fname_suffix}'\n",
    "plate=None\n",
    "run=None\n",
    "exp_workflow = ['WF10125'] # ['WF10125','WF10128','WF10130','WF10132', 'WF10134', 'WF10136', 'WF10139', 'WF10141', 'WF10144', 'WF10149', 'WF10157'] # ['WF10139', 'WF10144'] # \n",
    "lcms_method='C18'\n",
    "maldi_1_csv=None\n",
    "maldi_2_csv=None \n",
    "lcms_csv=None\n",
    "lcms_chiral_csv=None\n",
    "data_types_to_get=['maldi_detections_1', 'maldi_detections_2', 'lcms_detections', 'lcms_detections_chiral'] #\n",
    "model_type_list = ['maldi1sample_classification', 'maldi2sample_classification', 'maldi2lcms_regression']\n",
    "posctrl_enzyme_barcode = 'ENZ10045' \n",
    "plot_enantiomer_lcms_metrics = ['CMP60403','CMP60404']\n",
    "split_by_list = ['CMP60354'] # ['CMP60354', 'CMP60403', 'CMP60404']\n",
    "combine_maldi_lcms_by = ['source_address', 'source_plate_grp']\n",
    "col_suffix_db = {'':'_(r)', 'CMP60354':'_(r)', 'CMP60403':'_(-)', 'CMP60404':'_(+)'}\n",
    "hit_filter_dict = {\n",
    "    f\"data['maldi_lcms']['true_score_binary_CMP60354']\": (0, '>'), \n",
    "#     f\"data['maldi_lcms']['true_score_binary_CMP60403']\": (0, '>'),\n",
    "#     f\"data['maldi_lcms']['true_score_binary_CMP60404']\": (0, '>')\n",
    "}\n",
    "get_2sample_from_1sample_dataset = True\n",
    "maldi_label_condition={'pk_prod_stdz_379':{'pk_thres':8e-2, 'rxn_thres_factor':1}} # ENZ10045\n",
    "# maldi_label_condition={'pk_prod_stdz_379':{'pk_thres':4.5e-2, 'rxn_thres_factor':1}} # ENZ10045\n",
    "source_plate_groupings = {}\n",
    "plate_to_grp_idx_mapping = {}\n",
    "source_plate_groupings = {0: ['PLT17266', 'PLT17270', 'PLT17268'], 1: ['PLT17399', 'PLT17450', 'PLT17398'], 2: ['PLT17456', 'PLT17454', 'PLT17455'], 3: ['PLT17391', 'PLT17390', 'PLT17389'], 4: ['PLT17273', 'PLT17269', 'PLT17265'], 5: ['PLT17263', 'PLT17264', 'PLT17262'], 6: ['PLT17392', 'PLT17394', 'PLT17393'], 7: ['PLT17459', 'PLT17466', 'PLT17463'], 8: ['PLT17272', 'PLT17267', 'PLT17271'], 9: ['PLT17464', 'PLT17460', 'PLT17457'], 10: ['PLT17465', 'PLT17458', 'PLT17461'], 11: ['PLT17453', 'PLT17452', 'PLT17451'], 12: ['PLT17395', 'PLT17396'], 13: ['PLT17602'], 14: ['PLT17467', 'PLT17468', 'PLT17462'], 15: ['PLT17600'], 16: ['PLT17599'], 17: ['PLT17601'], 18: ['PLT17473'], 19: ['PLT17590'], 20: ['PLT17474', 'PLT17470', 'PLT17471', 'PLT17472'], 21: ['PLT17587'], 22: ['PLT17589'], 23: ['PLT17588'], 24: ['PLT17280'], 25: ['PLT17277'], 26: ['PLT17388'], 27: ['PLT17283'], 28: ['PLT17596'], 29: ['PLT17598'], 30: ['PLT17586'], 31: ['PLT17597'], 32: ['PLT17621'], 33: ['PLT17620'], 34: ['PLT17619'], 35: ['PLT17622'], 36: ['PLT17610'], 37: ['PLT17618'], 38: ['PLT17608'], 39: ['PLT17611'], 40: ['PLT17609']}\n",
    "plate_to_grp_idx_mapping = {'PLT17181': 0, 'PLT17488': 1, 'PLT17490': 2, 'PLT17323': 3, 'PLT17182': 4, 'PLT17179': 5, 'PLT17324': 6, 'PLT17521': 7, 'PLT17180': 8, 'PLT17519': 9, 'PLT17520': 10, 'PLT17489': 11, 'PLT17487': 12, 'PLT17730': 13, 'PLT17522': 14, 'PLT17728': 15, 'PLT17727': 16, 'PLT17729': 17, 'PLT17736': 18, 'PLT17674': 19, 'PLT17523': 20, 'PLT17671': 21, 'PLT17673': 22, 'PLT17672': 23, 'PLT17185': 24, 'PLT17184': 25, 'PLT17183': 26, 'PLT17186': 27, 'PLT17793': 28, 'PLT17795': 29, 'PLT17792': 30, 'PLT17794': 31, 'PLT17854': 32, 'PLT17851': 33, 'PLT17850': 34, 'PLT17855': 35, 'PLT17946': 36, 'PLT17865': 37, 'PLT17945': 38, 'PLT17947': 39, 'PLT17944': 40}\n",
    "dataset_creation = DatasetCreation(s3_subfolder=s3_subfolder, \n",
    "                                      model_fname=model_fname,\n",
    "                                      neg_ctrltype='EV', \n",
    "                                      model_type_list=model_type_list, \n",
    "                                      posctrl_enzyme_barcode=posctrl_enzyme_barcode,\n",
    "                                      maldi_label_condition=maldi_label_condition,\n",
    "                                      hit_filter_dict=hit_filter_dict,\n",
    "                                      combine_maldi_lcms_by=combine_maldi_lcms_by,\n",
    "                                      plot_enantiomer_lcms_metrics=plot_enantiomer_lcms_metrics,\n",
    "                                      col_suffix_db=col_suffix_db,\n",
    "                                      get_2sample_from_1sample_dataset=get_2sample_from_1sample_dataset\n",
    "                                     )\n",
    "data = dataset_creation.TRAIN(plate=plate, run=run, exp_workflow=exp_workflow, lcms_method=lcms_method, data_types_to_get=data_types_to_get, \n",
    "              maldi_1_csv=maldi_1_csv, maldi_2_csv=maldi_2_csv, lcms_csv=lcms_csv, lcms_chiral_csv=lcms_chiral_csv, get_maldi_labels=True, get_lcms_labels=True,\n",
    "              simulate_2sample_dataset=False, split_by_list=split_by_list, \n",
    "              get_source_plate_groupings=True, source_plate_groupings=source_plate_groupings, plate_to_grp_idx_mapping=plate_to_grp_idx_mapping, \n",
    "              generate_heatmaps=False, skip_model_training=False)\n",
    "\n",
    "# SAVE MODEL\n",
    "upload_to_s3(dataset_creation.s3_bucket, dataset_creation.model_path, dataset_creation)"
   ]
  },
  {
   "cell_type": "markdown",
   "id": "theoretical-portland",
   "metadata": {},
   "source": [
    "# 2. Perform Hits Selection & Worklist Generation\n",
    "## 2a. Load analysis class with trained models"
   ]
  },
  {
   "cell_type": "code",
   "execution_count": null,
   "id": "complimentary-external",
   "metadata": {},
   "outputs": [],
   "source": [
    "project_subfolder = 'Phoenix-prod_Unit2' # 'Phoenix-prod_Unit2-3-4-5-6-7-retest-8-9' # \n",
    "s3_subfolder = f'{s3_subbucket}{project_subfolder}/'\n",
    "model_fname_suffix = '_chiral' # ''\n",
    "model_fname = f'Maldi12Classification-LcmsRegression_{project_subfolder}{model_fname_suffix}'\n",
    "model_path = f'{s3_subfolder}{model_fname}'\n",
    "loaded_dataset_creation = download_from_s3(s3_bucket, model_path)"
   ]
  },
  {
   "cell_type": "markdown",
   "id": "initial-potato",
   "metadata": {},
   "source": [
    "## 2b. Perform hits selection & worklist generation (from MALDI data)"
   ]
  },
  {
   "cell_type": "code",
   "execution_count": null,
   "id": "complimentary-protection",
   "metadata": {},
   "outputs": [],
   "source": [
    "%load_ext autoreload\n",
    "%autoreload 2\n",
    "    \n",
    "plate=None\n",
    "run=None\n",
    "exp_workflow = ['WF10125']\n",
    "lcms_method='C18'\n",
    "maldi_1_csv=None\n",
    "maldi_2_csv=None \n",
    "lcms_csv=None\n",
    "lcms_chiral_csv=None\n",
    "get_2sample_from_1sample_dataset=True\n",
    "source_plate_groupings = {0: ['PLT17264', 'PLT17262', 'PLT17263'], 1: ['PLT17268', 'PLT17270', 'PLT17266'], 2: ['PLT17267', 'PLT17272', 'PLT17271'], 3: ['PLT17269', 'PLT17273', 'PLT17265']}\n",
    "plate_to_grp_idx_mapping = {'PLT17179': 0, 'PLT17181': 1, 'PLT17180': 2, 'PLT17182': 3}\n",
    "split_by_list_PREDICT = ['CMP60354']\n",
    "data_types_to_get=['maldi_detections_1', 'maldi_detections_2'] # , 'lcms_detections', 'lcms_detections_chiral']\n",
    "# select_by=['predicted_binary_score', 'predicted_enantiomeric_excess_(+over-)']\n",
    "select_by=['predicted_nonbinary_score']\n",
    "max_num_hits= 600\n",
    "select_up_to_max=True\n",
    "generate_worklist=False\n",
    "generate_heatmaps=False\n",
    "generate_boxplots=False\n",
    "\n",
    "loaded_dataset_creation.PREDICT(plate=plate, run=run, exp_workflow=exp_workflow, lcms_method=lcms_method, data_types_to_get=data_types_to_get, \n",
    "              maldi_1_csv=maldi_1_csv, maldi_2_csv=maldi_2_csv, lcms_csv=lcms_csv, lcms_chiral_csv=lcms_chiral_csv,\n",
    "            get_source_plate_groupings=True, source_plate_groupings=source_plate_groupings, plate_to_grp_idx_mapping=plate_to_grp_idx_mapping, \n",
    "            split_by_list_PREDICT=split_by_list_PREDICT, generate_heatmaps=generate_heatmaps, generate_boxplots=generate_boxplots)\n",
    "loaded_dataset_creation.HIT_SELECTION(loaded_dataset_creation.enzyme_analytics_df, select_by=select_by, \n",
    "                                      max_num_hits=max_num_hits, select_up_to_max=select_up_to_max, generate_worklist=generate_worklist)"
   ]
  },
  {
   "cell_type": "markdown",
   "id": "distant-joint",
   "metadata": {},
   "source": [
    "# 3. Get LCMS ONLY dataset and Perform Hits Selection (without models)\n",
    "## 3a. Create Dataset"
   ]
  },
  {
   "cell_type": "code",
   "execution_count": 4,
   "id": "sustained-decade",
   "metadata": {},
   "outputs": [
    {
     "name": "stdout",
     "output_type": "stream",
     "text": [
      "executing query: SELECT \"id\", \"address\", \"run\", \"plate\", \"dev_or_prod\", \"exp_workflow_barcode\", \"exp_workflow_name\", \"proj_barcode\", \"proj_name\", \"ctrl_type\", \"exp_condition\", \"enzyme_barcode\", \"sequence\", \"hamming\", \"mutations\", \"reference_enzyme\", \"enzyme_concentration\", \"enzyme_unit\", \"enzyme_class\", \"sequence_qc\", \"sample_position\", \"sample_type\", \"substrate_barcode\", \"substrate_concentration\", \"substrate_unit\", \"substrate_smiles\", \"substrate_mz\", \"product_smiles\", \"product_mz\", \"sub_area\", \"prod_area\", \"ptr_lcms\", \"sub_conc_lcms_actual\", \"prod_conc_lcms_actual\", \"sum_conc_lcms_actual\", \"dilution_factor\", \"injector_volume\", \"expected_concentration\", \"concentration_units\", \"source_plate\", \"source_address\", \"seed_address\", \"seed_address_alphanumeric\", \"seed_plate\", \"main_plate\", \"rxn_plate\", \"library_barcode\", \"library_ref\", \"library_description\", \"seed_plate_time\", \"main_plate_time\", \"rxn_plate_time\", \"plate_time\", \"pellet_OD\", \"pellet_detected\", \"pellet_area\", \"pellet_intensity\", \"sum_conc_check\" FROM lcms_detections WHERE (\"exp_workflow_barcode\" = 'WF10198');\n",
      "1472 matching rows found.\n",
      "New source plates = []\n",
      "Obtained LCMS C18 dataset.\n",
      "executing query: SELECT \"id\", \"address\", \"run\", \"plate\", \"dev_or_prod\", \"exp_workflow_barcode\", \"exp_workflow_name\", \"proj_barcode\", \"proj_name\", \"ctrl_type\", \"exp_condition\", \"enzyme_barcode\", \"sequence\", \"hamming\", \"mutations\", \"reference_enzyme\", \"enzyme_concentration\", \"enzyme_unit\", \"enzyme_class\", \"sequence_qc\", \"sample_position\", \"sample_type\", \"substrate_barcode\", \"substrate_concentration\", \"substrate_unit\", \"substrate_smiles\", \"substrate_mz\", \"product_smiles\", \"product_mz\", \"sub(r)_area\", \"sub(+)_area\", \"sub(-)_area\", \"prod(r)_area\", \"prod(+)_area\", \"prod(-)_area\", \"ptr_lcms_(+)\", \"sub_conc_lcms_actual_(+)\", \"prod_conc_lcms_actual_(+)\", \"sum_conc_lcms_actual_(+)\", \"ptr_lcms_(-)\", \"sub_conc_lcms_actual_(-)\", \"prod_conc_lcms_actual_(-)\", \"sum_conc_lcms_actual_(-)\", \"sub_conc_lcms_actual_(r)\", \"prod_conc_lcms_actual_(r)\", \"dilution_factor\", \"injector_volume\", \"expected_concentration\", \"concentration_units\", \"source_plate\", \"source_address\", \"seed_address\", \"seed_address_alphanumeric\", \"seed_plate\", \"main_plate\", \"rxn_plate\", \"library_barcode\", \"library_ref\", \"library_description\", \"seed_plate_time\", \"main_plate_time\", \"rxn_plate_time\", \"plate_time\", \"pellet_OD\", \"pellet_detected\", \"pellet_area\", \"pellet_intensity\" FROM lcms_detections_chiral WHERE (\"exp_workflow_barcode\" = 'WF10198');\n",
      "1472 matching rows found.\n",
      "New source plates = []\n",
      "Obtained LCMS chiral dataset.\n",
      "lcms_detections 1472 rows. 1 substrates: ['CMP60354']\n",
      "['address', 'source_plate_grp', 'substrate_concentration', 'dev_or_prod', 'exp_workflow_barcode', 'exp_workflow_name', 'proj_barcode', 'proj_name', 'ctrl_type', 'exp_condition', 'enzyme_barcode', 'sequence', 'hamming', 'mutations', 'reference_enzyme', 'enzyme_concentration', 'enzyme_unit', 'enzyme_class', 'sequence_qc', 'seed_address', 'seed_address_alphanumeric', 'seed_plate', 'main_plate', 'rxn_plate', 'library_barcode', 'library_ref', 'library_description', 'seed_plate_time', 'main_plate_time', 'rxn_plate_time', 'plate_time', 'pellet_OD', 'pellet_detected', 'pellet_area', 'pellet_intensity', 'sub_area_CMP60354', 'prod_area_CMP60354', 'run_CMP60354', 'plate_CMP60354', 'address_CMP60354', 'source_plate_CMP60354', 'source_address_CMP60354', 'substrate_barcode_CMP60354', 'substrate_smiles_CMP60354', 'substrate_concentration_CMP60354', 'ptr_lcms_CMP60354', 'sub_conc_lcms_actual_CMP60354', 'prod_conc_lcms_actual_CMP60354', 'sum_conc_lcms_actual_CMP60354']\n",
      "lcms_detections 1472 rows.\n",
      "lcms_detections_chiral 1472 rows.\n",
      "Added LCMS chiral data to LCMS C18 dataset using columns ['source_address', 'source_plate_grp', 'substrate_concentration', 'exp_condition']. 1472 rows.\n",
      "Calculated conversion and enantioselectivity metrics for C18 LCMS data. \n",
      "[Chiral LCMS] 2022-01-28T15:20: sum_conc_avg_neg = nan; sub_area_avg_neg = nan\n",
      "[Chiral LCMS] 2022-01-28T15:21: sum_conc_avg_neg = nan; sub_area_avg_neg = nan\n",
      "[Chiral LCMS] 2022-01-28T15:23: sum_conc_avg_neg = nan; sub_area_avg_neg = nan\n",
      "[Chiral LCMS] 2022-01-28T15:19: sum_conc_avg_neg = nan; sub_area_avg_neg = nan\n",
      "Calculated conversion and enantioselectivity metrics for chiral LCMS data. \n",
      "[LCMS] neg ctrl thres: -0.0216; pos ctrl thres: nan; FINAL THRES: -0.0216\n",
      "EV control mean: 0.281\n",
      "pos control mean: nan\n",
      "exp sample mean: 0.941\n",
      "Obtained binary labels from LCMS data.\n"
     ]
    },
    {
     "name": "stderr",
     "output_type": "stream",
     "text": [
      "/Users/charmaine/miniconda3/envs/pnlenv/lib/python3.9/site-packages/pandas/core/indexing.py:1773: SettingWithCopyWarning: \n",
      "A value is trying to be set on a copy of a slice from a DataFrame.\n",
      "Try using .loc[row_indexer,col_indexer] = value instead\n",
      "\n",
      "See the caveats in the documentation: https://pandas.pydata.org/pandas-docs/stable/user_guide/indexing.html#returning-a-view-versus-a-copy\n",
      "  self._setitem_single_column(ilocs[0], value, pi)\n",
      "/Users/charmaine/miniconda3/envs/pnlenv/lib/python3.9/site-packages/pandas/core/indexing.py:1667: SettingWithCopyWarning: \n",
      "A value is trying to be set on a copy of a slice from a DataFrame.\n",
      "Try using .loc[row_indexer,col_indexer] = value instead\n",
      "\n",
      "See the caveats in the documentation: https://pandas.pydata.org/pandas-docs/stable/user_guide/indexing.html#returning-a-view-versus-a-copy\n",
      "  self.obj[key] = value\n",
      "/Users/charmaine/miniconda3/envs/pnlenv/lib/python3.9/site-packages/pandas/core/indexing.py:1884: SettingWithCopyWarning: \n",
      "A value is trying to be set on a copy of a slice from a DataFrame.\n",
      "Try using .loc[row_indexer,col_indexer] = value instead\n",
      "\n",
      "See the caveats in the documentation: https://pandas.pydata.org/pandas-docs/stable/user_guide/indexing.html#returning-a-view-versus-a-copy\n",
      "  self._setitem_single_column(loc, val, pi)\n"
     ]
    },
    {
     "name": "stdout",
     "output_type": "stream",
     "text": [
      "source_plate_(r) list: ['PLT18561', 'PLT18573', 'PLT18575', 'PLT18568']\n",
      "***INFO*** Cleared 368 records from combi_analytics_table.\n",
      "Saved 368 rows to Postgres (combi_analytics_table).\n",
      "Updated postgres enzyme_analytics_table for all (+), (-), (r) samples associated with the variants on source plate PLT18561.\n",
      "***INFO*** Cleared 368 records from combi_analytics_table.\n",
      "Saved 368 rows to Postgres (combi_analytics_table).\n",
      "Updated postgres enzyme_analytics_table for all (+), (-), (r) samples associated with the variants on source plate PLT18573.\n",
      "***INFO*** Cleared 368 records from combi_analytics_table.\n",
      "Saved 368 rows to Postgres (combi_analytics_table).\n",
      "Updated postgres enzyme_analytics_table for all (+), (-), (r) samples associated with the variants on source plate PLT18575.\n",
      "***INFO*** Cleared 368 records from combi_analytics_table.\n",
      "Saved 368 rows to Postgres (combi_analytics_table).\n",
      "Updated postgres enzyme_analytics_table for all (+), (-), (r) samples associated with the variants on source plate PLT18568.\n"
     ]
    }
   ],
   "source": [
    "perform_hits_selection = False\n",
    "s3_subfolder = f'VQ-Retest5/' # 'VQ-Retest4_LCMSONLY' # 'Phoenix-prod_Unit2-3-4-5-6-7-8-9-10-11-12-13-14-15-16_LCMSONLY' # \n",
    "run= None # ['WF10179'] # \n",
    "exp_workflow = ['WF10198'] #['WF10191'] # ['WF10125','WF10128','WF10130','WF10132', 'WF10134', 'WF10136', 'WF10139', 'WF10144', 'WF10149', 'WF10157', 'WF10158', 'WF10163', 'WF10169', 'WF10173', 'WF10181']  # None # \n",
    "lcms_csv=None\n",
    "lcms_chiral_csv = None\n",
    "combine_by = ['address', 'source_plate_grp', 'substrate_concentration', 'exp_condition'] #  ['address', 'source_plate_grp'] #\n",
    "combine_maldi_lcms_by = ['source_address', 'source_plate_grp', 'substrate_concentration', 'exp_condition'] # ['source_address', 'source_plate_grp'] # \n",
    "get_source_plate_groupings=True\n",
    "source_plate_groupings={}\n",
    "plate_to_grp_idx_mapping={}\n",
    "source_plate_groupings = {0: ['PLT17609'], 1: ['PLT17465', 'PLT17458', 'PLT17461'], 2: ['PLT17269', 'PLT17265', 'PLT17273'], 3: ['PLT17587'], 4: ['PLT17472', 'PLT17471', 'PLT17470', 'PLT17474'], 5: ['PLT17454', 'PLT17455', 'PLT17456'], 6: ['PLT17398', 'PLT17399', 'PLT17450'], 7: ['PLT17389', 'PLT17390', 'PLT17391'], 8: ['PLT17451', 'PLT17453', 'PLT17452'], 9: ['PLT17599'], 10: ['PLT17598'], 11: ['PLT17457', 'PLT17464', 'PLT17460'], 12: ['PLT17590'], 13: ['PLT17270', 'PLT17268', 'PLT17266'], 14: ['PLT17601'], 15: ['PLT17468', 'PLT17462', 'PLT17467'], 16: ['PLT17610'], 17: ['PLT17264', 'PLT17263', 'PLT17262'], 18: ['PLT17588'], 19: ['PLT17618'], 20: ['PLT17586'], 21: ['PLT17602'], 22: ['PLT17622'], 23: ['PLT17589'], 24: ['PLT17271', 'PLT17267', 'PLT17272'], 25: ['PLT18073'], 26: ['PLT17466', 'PLT17459', 'PLT17463'], 27: ['PLT17608'], 28: ['PLT17596'], 29: ['PLT17394', 'PLT17392', 'PLT17393'], 30: ['PLT17395', 'PLT17396'], 31: ['PLT17613'], 32: ['PLT17621'], 33: ['PLT17611'], 34: ['PLT17620'], 35: ['PLT17597'], 36: ['PLT17615'], 37: ['PLT17600'], 38: ['PLT17473'], 39: ['PLT18074'], 40: ['PLT17614'], 41: ['PLT17619'], 42: ['PLT17280'], 43: ['PLT17388'], 44: ['PLT17283'], 45: ['PLT17277'], 46: ['PLT18078'], 47: ['PLT18070'], 48: ['PLT18079'], 49: ['PLT17606'], 50: ['PLT17605'], 51: ['PLT17604'], 52: ['PLT18068'], 53: ['PLT18075'], 54: ['PLT18067'], 55: ['PLT17595'], 56: ['PLT18573', 'PLT18575'], 57: ['PLT18568', 'PLT18561']}\n",
    "plate_to_grp_idx_mapping = {'PLT17944': 0, 'PLT17520': 1, 'PLT17182': 2, 'PLT17671': 3, 'PLT17523': 4, 'PLT17490': 5, 'PLT17488': 6, 'PLT17323': 7, 'PLT17489': 8, 'PLT17727': 9, 'PLT17795': 10, 'PLT17519': 11, 'PLT17674': 12, 'PLT17181': 13, 'PLT17729': 14, 'PLT17522': 15, 'PLT17946': 16, 'PLT17179': 17, 'PLT17672': 18, 'PLT17865': 19, 'PLT17792': 20, 'PLT17730': 21, 'PLT17855': 22, 'PLT17673': 23, 'PLT17180': 24, 'PLT18124': 25, 'PLT17521': 26, 'PLT17945': 27, 'PLT17793': 28, 'PLT17324': 29, 'PLT17487': 30, 'PLT18040': 31, 'PLT17854': 32, 'PLT17947': 33, 'PLT17851': 34, 'PLT17794': 35, 'PLT18041': 36, 'PLT17728': 37, 'PLT17736': 38, 'PLT18123': 39, 'PLT18042': 40, 'PLT17850': 41, 'PLT17185': 42, 'PLT17183': 43, 'PLT17186': 44, 'PLT17184': 45, 'PLT18246': 46, 'PLT18242': 47, 'PLT18247': 48, 'PLT18332': 49, 'PLT18331': 50, 'PLT18327': 51, 'PLT18439': 52, 'PLT18436': 53, 'PLT18440': 54, 'PLT18435': 55, 'PLT18680': 56, 'PLT18679': 57}\n",
    "posctrl_enzyme_barcode = 'ENZ10045' \n",
    "split_by_list = ['CMP60354'] # ['CMP60354', 'CMP60403', 'CMP60404'] # \n",
    "plate_col = 'plate_CMP60354'\n",
    "subconc_init = 100\n",
    "plot_enantiomer_lcms_metrics = ['CMP60403','CMP60404']\n",
    "col_suffix_db = {'':'_(r)', 'CMP60354':'_(r)', 'CMP60403':'_(-)', 'CMP60404':'_(+)'}\n",
    "data_types_to_get = ['lcms_detections', 'lcms_detections_chiral'] # ['lcms_detections'] # \n",
    "get_binary_labels_lcms = True\n",
    "nonbinary_label_col = 'prod_conc_lcms_actual'\n",
    "select_by = ['measured_nonbinary_score']\n",
    "max_num_hits = 600\n",
    "select_up_to_max=True\n",
    "generate_worklist=True\n",
    "generate_heatmaps=False\n",
    "generate_boxplots=False\n",
    "\n",
    "lcms_analysis = DatasetCreation(s3_subfolder=s3_subfolder, \n",
    "                                 neg_ctrltype='EV', \n",
    "                                 posctrl_enzyme_barcode=posctrl_enzyme_barcode,\n",
    "                                 combine_maldi_lcms_by=combine_maldi_lcms_by, \n",
    "                                 plot_enantiomer_lcms_metrics=plot_enantiomer_lcms_metrics,\n",
    "                                 col_suffix_db=col_suffix_db)\n",
    "lcms_analysis.split_by_list = split_by_list\n",
    "lcms_analysis.split_by_list_PREDICT = split_by_list\n",
    "data = lcms_analysis.GET_LCMS_DATASETS(lcms_run=run, exp_workflow=exp_workflow, lcms_csv=lcms_csv, lcms_chiral_csv=lcms_chiral_csv, combine_by=combine_by,\n",
    "                                      get_source_plate_groupings=get_source_plate_groupings, source_plate_groupings=source_plate_groupings, plate_to_grp_idx_mapping=plate_to_grp_idx_mapping, split_by_list=split_by_list, \n",
    "                                      data_types_to_get=data_types_to_get, chiral_merge_method='outer', \n",
    "                                      calculate_conversion_enantioselectivity=get_binary_labels_lcms, \n",
    "                                       perform_qc=False, plate_col=plate_col, subconc_init=subconc_init,\n",
    "                                       get_binary_labels_lcms=get_binary_labels_lcms, nonbinary_label_col=nonbinary_label_col)\n",
    "\n",
    "# get enzyme_analytics_df\n",
    "df = AnalysisPipeline().standardize_dataset_columns(data['lcms_detections_all'], data_type='lcms_detections_all', update_analytics_table=True)\n",
    "\n"
   ]
  },
  {
   "cell_type": "markdown",
   "id": "5e9eb32f-b0b1-4b2b-9e90-3c03a8faf045",
   "metadata": {},
   "source": [
    "## 3b. Perform hits selection & worklist generation (from LCMS data)"
   ]
  },
  {
   "cell_type": "code",
   "execution_count": null,
   "id": "aa67db65-ba15-42cb-95b3-4db5b19d925d",
   "metadata": {},
   "outputs": [],
   "source": [
    "if perform_hits_selection:\n",
    "    lcms_analysis.plate_list = [p for p in list(set(df['lcms_plate_(r)'])) if p==p]\n",
    "    lcms_analysis.HIT_SELECTION(df=df, select_by=select_by, plate_type_to_select_from='lcms_plate',\n",
    "                                max_num_hits=max_num_hits, select_up_to_max=select_up_to_max, generate_worklist=generate_worklist)"
   ]
  },
  {
   "cell_type": "markdown",
   "id": "indie-alaska",
   "metadata": {},
   "source": [
    "# 4. Get Dataset Analytics"
   ]
  },
  {
   "cell_type": "markdown",
   "id": "c3c816e6-4b64-406f-9676-c77fe1a3e342",
   "metadata": {},
   "source": [
    "## 4a. Analytics from Combined dataset (combi_analytics_table)"
   ]
  },
  {
   "cell_type": "code",
   "execution_count": null,
   "id": "unique-stylus",
   "metadata": {},
   "outputs": [],
   "source": [
    "project_subfolder = 'Phoenix-prod_Unit2-3-4-5-6-7-8-9-10-11-12-13-14-15-16_LCMSONLY' \n",
    "s3_subfolder = f'{s3_subbucket}{project_subfolder}/'\n",
    "exp_workflow = ['WF10125','WF10128','WF10130','WF10132', 'WF10134', 'WF10136', 'WF10139', 'WF10144', 'WF10149', 'WF10157', 'WF10158', 'WF10163', 'WF10169', 'WF10173', 'WF10181']  # None # \n",
    "table = 'combi_analytics_table' \n",
    "metric_dict = {'LcmsC18':['pellet_OD', 'measured_nonbinary_score_(r)', 'measured_conversion_(r)'], 'LcmsChiral':['measured_enantiomeric_excess_(+over-)']}\n",
    "\n",
    "analysis_pipeline = AnalysisPipeline(s3_subfolder=s3_subfolder, neg_ctrltype='EV', sort_by=None, metric_dict=metric_dict)\n",
    "df = analysis_pipeline.load_data(table, exp_workflow=exp_workflow)\n",
    "overall_analytics, overall_analytics_panel = analysis_pipeline.GET_OVERALL_ANALYTICS(df, display_table=True, plot_scatterplot=True, plot_histogram=True)\n",
    "variant_analytics, variant_analytics_panel = analysis_pipeline.GET_VARIANT_ANALYTICS(df, display_table=True)\n",
    "top_variant_stats, top_variant_reps, top_variant_analytics_panel = analysis_pipeline.get_top_variants(variant_analytics, df, thres_dict={'measured_conversion_(r)':(0.2,1,'median'), 'measured_enantiomeric_excess_(+over-)':(0.2,1,'median')}, top_n_variants=50, sort_by=('measured_conversion_(r)', 'median'), get_replicates_data=True)\n",
    "plate_analytics, plate_analytics_panel = analysis_pipeline.GET_PLATE_ANALYTICS(df, display_table=True)\n",
    "library_analytics, library_analytics_panel = analysis_pipeline.GET_LIBRARY_ANALYTICS(df, display_table=True)\n",
    "unit_analytics, unit_analytics_panel = analysis_pipeline.GET_UNIT_ANALYTICS(df, display_table=True, plot_scatterplot=True, plot_histogram=True, get_ctrls_from_vals=True)\n",
    "scatterplot_activity_corr_list = analysis_pipeline.get_activity_correlation_plots(top_variant_reps, xmetric_list=['pellet_OD', 'measured_nonbinary_sum_(r)'], xmetricname_list=['PelletOD', 'RacemicSum'], ymetric='measured_nonbinary_score_(r)', ymetricname='RacemicProduct', groupby='enzyme_barcode')\n",
    "scatterplot_activityCV_corr_list = analysis_pipeline.get_activity_CV_correlation_plots(top_variant_stats, xmetric_list=['pellet_OD_cv', 'measured_nonbinary_sum_(r)_cv'], xmetricname_list=['PelletOD-CV', 'RacemicSum-CV'], ymetric='measured_nonbinary_score_(r)_cv', ymetricname='RacemicProduct-CV', groupby='enzyme_barcode')"
   ]
  },
  {
   "cell_type": "markdown",
   "id": "1b8cd130-c134-45cd-980d-5e73a9225adb",
   "metadata": {},
   "source": [
    "## 4b. Analytics from individual LCMS dataset (lcms_detections)"
   ]
  },
  {
   "cell_type": "code",
   "execution_count": null,
   "id": "39782701-85fc-407e-82a4-8b52e9207993",
   "metadata": {},
   "outputs": [],
   "source": [
    "project_subfolder = 'VQ-BL21vsC41_LCMSONLY' # 'VQ-Retest4_LCMSONLY' \n",
    "s3_subfolder = f'{s3_subbucket}{project_subfolder}/'\n",
    "exp_workflow = ['WF10192'] \n",
    "table = 'lcms_detections' # 'combi_analytics_table'\n",
    "metric_dict = {'LcmsC18':['pellet_OD', 'measured_nonbinary_sum_(r)', 'measured_nonbinary_score_(r)', 'measured_conversion_(r)']}  # \n",
    "\n",
    "# get data\n",
    "analysis_pipeline = AnalysisPipeline(s3_subfolder=s3_subfolder, neg_ctrltype='EV', sort_by=None, metric_dict=metric_dict)\n",
    "df = analysis_pipeline.load_data(table, exp_workflow=exp_workflow)\n",
    "df = analysis_pipeline.get_derived_metrics(df, derived_metrics_to_get=['LcmsC18'])\n",
    "df = analysis_pipeline.standardize_dataset_columns(df, update_analytics_table=False)\n",
    "display(df)\n",
    "\n",
    "# for sub_conc\n",
    "for sub_conc in list(set(df['substrate_concentration_(r)'])):\n",
    "    df_sub = df.loc[df['substrate_concentration_(r)']==sub_conc]\n",
    "    variant_analytics, variant_analytics_panel = analysis_pipeline.GET_VARIANT_ANALYTICS(df_sub, display_table=True, table_suffix=f'_{int(sub_conc)}')\n",
    "    top_variant_stats, top_variant_reps, top_variant_analytics_panel = analysis_pipeline.get_top_variants(variant_analytics, df=df_sub, \n",
    "                     thres_dict={'measured_nonbinary_score_(r)':(0,1,'median')}, top_n_variants=34, \n",
    "                     sort_by=('measured_nonbinary_score_(r)', 'median'), get_replicates_data=True, display_table=True, table_suffix=f'_{int(sub_conc)}')\n",
    "    \n",
    "    scatterplot_activity_corr_list = analysis_pipeline.get_activity_correlation_plots(top_variant_reps, xmetric_list=['pellet_OD', 'measured_nonbinary_sum_(r)'], xmetricname_list=['PelletOD', 'RacemicSum'], ymetric='measured_nonbinary_score_(r)', ymetricname='RacemicProduct', groupby='enzyme_barcode', table_suffix=f'_{int(sub_conc)}')\n",
    "    scatterplot_activitycv_corr_list = analysis_pipeline.get_activity_CV_correlation_plots(top_variant_stats, xmetric_list=['pellet_OD_cv', 'measured_nonbinary_sum_(r)_cv'], xmetricname_list=['PelletOD-CV', 'RacemicSum-CV'], ymetric='measured_nonbinary_score_(r)_cv', ymetricname='RacemicProduct-CV', groupby='enzyme_barcode',table_suffix=f'_{int(sub_conc)}')"
   ]
  },
  {
   "cell_type": "code",
   "execution_count": null,
   "id": "d00ffe91-63b2-4edb-a58c-62e04232f598",
   "metadata": {},
   "outputs": [],
   "source": []
  },
  {
   "cell_type": "code",
   "execution_count": null,
   "id": "1ada52ab-637c-48e5-88db-a965505a28cd",
   "metadata": {},
   "outputs": [],
   "source": []
  }
 ],
 "metadata": {
  "kernelspec": {
   "display_name": "Python 3 (ipykernel)",
   "language": "python",
   "name": "python3"
  },
  "language_info": {
   "codemirror_mode": {
    "name": "ipython",
    "version": 3
   },
   "file_extension": ".py",
   "mimetype": "text/x-python",
   "name": "python",
   "nbconvert_exporter": "python",
   "pygments_lexer": "ipython3",
   "version": "3.9.7"
  }
 },
 "nbformat": 4,
 "nbformat_minor": 5
}
