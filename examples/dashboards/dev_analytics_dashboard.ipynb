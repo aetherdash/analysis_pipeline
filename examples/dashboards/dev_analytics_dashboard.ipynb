{
 "cells": [
  {
   "cell_type": "markdown",
   "metadata": {},
   "source": [
    "## Dev Dashboarding ##\n",
    "lsof -i udp:9999 <br>\n",
    "fuser -k 5006/tcp <br>\n",
    "panel serve --address 0.0.0.0 --allow-websocket-origin=hypatia.biomachines.io:5006 --port=5006 --show dev_analytics_dashboard.ipynb <br>\n",
    "http://hypatia.biomachines.io:5006/dev_analytics_dashboard <br>\n",
    "* https://docs.google.com/document/d/1PU1OUlR6i1fGRnLsv8iYXmmY_byGu2kccWzCMyY922o/edit"
   ]
  },
  {
   "cell_type": "code",
   "execution_count": null,
   "metadata": {},
   "outputs": [],
   "source": [
    "%load_ext autoreload\n",
    "%autoreload 2\n",
    "\n",
    "import pandas as pd\n",
    "import matplotlib.pyplot as plt\n",
    "import sys, os\n",
    "import panel as pn\n",
    "import pickle\n",
    "import numpy as np\n",
    "cwd = os.getcwd()\n",
    "slash_idx = [i for i,l in enumerate(cwd) if l=='/']\n",
    "repo_dir = cwd[:slash_idx[-2]]\n",
    "sys.path.append(repo_dir)\n",
    "from analysis.analysis_pipeline import AnalysisPipeline\n",
    "from utils.lims_utils import get_plate_runs, plates_from_exp, plates_from_workflow\n",
    "from utils.s3_interface import download_from_s3, upload_to_s3, s3_imgupload, s3_df2csv, s3_csv2df, s3_imgdownload\n",
    "from utils.table_properties import * \n",
    "pd.set_option('display.max_columns', None)\n",
    "s3_bucket = 'ml-analytics-file-store' \n",
    "\n",
    "dataset_folder = '../../../DATASETS/'\n",
    "figure_folder = '../../../FIGURES/'\n",
    "pn.extension(sizing_mode=\"stretch_width\")\n"
   ]
  },
  {
   "cell_type": "markdown",
   "metadata": {},
   "source": [
    "# Get Analytics Dashboard"
   ]
  },
  {
   "cell_type": "markdown",
   "metadata": {},
   "source": [
    "## Initialize Analytics Pipeline object & get panel columns"
   ]
  },
  {
   "cell_type": "code",
   "execution_count": null,
   "metadata": {},
   "outputs": [],
   "source": [
    "s3_subfolder = f'VQ-Retest5/' \n",
    "exp_workflow = ['WF10198']\n",
    "table = 'combi_analytics_table' # 'lcms_detections' # \n",
    "analysis_pipeline = AnalysisPipeline(\n",
    "    s3_subfolder=s3_subfolder, \n",
    "    neg_ctrltype='EV', \n",
    "    sort_by=None, \n",
    "    get_dashboard_panel=False,\n",
    "    save_plots_to_s3=True\n",
    ")\n",
    "\n",
    "# fetch panel columns\n",
    "panel_columns = analysis_pipeline.fetch_saved_panel_data()"
   ]
  },
  {
   "cell_type": "code",
   "execution_count": null,
   "metadata": {},
   "outputs": [],
   "source": [
    "pn.template.FastListTemplate(\n",
    "    site=\"Panel\", \n",
    "    title=f\"{s3_subfolder}Dev Analytics\", \n",
    "    main=panel_columns, \n",
    "    main_max_width=\"1760px\",\n",
    ").servable();"
   ]
  }
 ],
 "metadata": {
  "kernelspec": {
   "display_name": "Python 3 (ipykernel)",
   "language": "python",
   "name": "python3"
  },
  "language_info": {
   "codemirror_mode": {
    "name": "ipython",
    "version": 3
   },
   "file_extension": ".py",
   "mimetype": "text/x-python",
   "name": "python",
   "nbconvert_exporter": "python",
   "pygments_lexer": "ipython3",
   "version": "3.9.7"
  }
 },
 "nbformat": 4,
 "nbformat_minor": 4
}
