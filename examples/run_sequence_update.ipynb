{
 "cells": [
  {
   "cell_type": "markdown",
   "id": "random-diary",
   "metadata": {},
   "source": [
    "# Load required modules\n",
    "\n",
    "[Link to SOP](https://docs.google.com/document/d/1Oi2pUYFsxWAtLrsqoprCOqMYejmTCKDhwDJGekK00Og/edit)"
   ]
  },
  {
   "cell_type": "code",
   "execution_count": 1,
   "id": "better-michael",
   "metadata": {},
   "outputs": [],
   "source": [
    "%load_ext autoreload\n",
    "%autoreload 2\n",
    "%matplotlib inline\n",
    "import sys, os\n",
    "import pickle\n",
    "import numpy as np\n",
    "import matplotlib.pyplot as plt\n",
    "import pandas as pd\n",
    "import pickle\n",
    "\n",
    "cwd = os.getcwd()\n",
    "slash_idx = [i for i,l in enumerate(cwd) if l=='/']\n",
    "repo_dir = cwd[:slash_idx[-1]]\n",
    "base_dir = cwd[:slash_idx[-2]]\n",
    "sys.path.append(repo_dir)\n",
    "sys.path.append(base_dir)\n",
    "\n",
    "from analysis_pipeline.sequence_update import DetectionsSequenceUpdate\n",
    "from analytics_utils.analytics_utils.lims_utils import get_plate_runs, plates_from_exp, plates_from_workflow\n",
    "from analytics_utils.analytics_utils.s3_interface import download_from_s3, upload_to_s3, s3_imgupload, s3_df2csv, s3_csv2df\n",
    "from analytics_utils.analytics_utils.table_properties import maldi_detections_columns, lcms_detections_columns, lcms_detections_chiral_columns\n",
    "\n",
    "dataset_folder = '../DATASETS/'\n",
    "results_folder = '../detectionspipeline_results/'\n",
    "models_folder = '../MODELS/'\n",
    "s3_model_bucket = 'ml-models-registry'\n",
    "s3_model_bucket_subdirectory = 'exerevnetes-preprocessing-models/'"
   ]
  },
  {
   "cell_type": "markdown",
   "id": "respective-equity",
   "metadata": {},
   "source": [
    "# Update sequences in Postgres"
   ]
  },
  {
   "cell_type": "markdown",
   "id": "genuine-amount",
   "metadata": {},
   "source": [
    "## 1. Set experiment / workflow / plate list, plate type, reference enzyme"
   ]
  },
  {
   "cell_type": "code",
   "execution_count": 12,
   "id": "empirical-estonia",
   "metadata": {},
   "outputs": [
    {
     "name": "stdout",
     "output_type": "stream",
     "text": [
      "Plate list (0): []\n"
     ]
    }
   ],
   "source": [
    "exp_workflow_barcode_list = ['WF10153'] # None # \n",
    "plate_list = None # ['PLT18088'] # \n",
    "reference_enzyme = 'ENZ10045'\n",
    "plate_types_to_fetch = ['LCMS_FINAL'] # ['HTS', 'LCMS_FINAL'] # \n",
    "\n",
    "if exp_workflow_barcode_list is not None:\n",
    "    plate_type_list = []\n",
    "    plate_list = []\n",
    "    for str_find in plate_types_to_fetch:\n",
    "        for exp_workflow_barcode in exp_workflow_barcode_list:\n",
    "            if 'EXP' in exp_workflow_barcode:\n",
    "                plate_list_subset = plates_from_exp(exp_workflow_barcode, str_find)\n",
    "            elif 'WF' in exp_workflow_barcode:\n",
    "                plate_list_subset = plates_from_workflow(exp_workflow_barcode, str_find)\n",
    "            plate_list += plate_list_subset\n",
    "            plate_type_list += [str_find]*len(plate_list_subset)\n",
    "else:\n",
    "    plate_type_list = plate_types_to_fetch * len(plate_list)\n",
    "\n",
    "print(f\"Plate list ({len(plate_list)}): {[(p, pt) for p, pt in zip(plate_list,plate_type_list)]}\")"
   ]
  },
  {
   "cell_type": "markdown",
   "id": "tough-group",
   "metadata": {},
   "source": [
    "## 2. Run sequence update to get sequences on plate into Postgres table and S3 datasets"
   ]
  },
  {
   "cell_type": "code",
   "execution_count": 11,
   "id": "unexpected-health",
   "metadata": {},
   "outputs": [
    {
     "name": "stdout",
     "output_type": "stream",
     "text": [
      "PLT18086 LCMS_FINAL\n",
      "# of unique enzymes: 114\n",
      "Number of wells in sequence update: 360\n",
      "548 matching rows found.\n",
      "# of deduplicated entries: 368\n",
      "***INFO*** Cleared 548 records from lcms_detections.\n",
      "Saved 368 rows to Postgres: lcms_detections.\n",
      "988 matching rows found.\n",
      "Updated WF10179_C18_LCMSdetections.csv in S3 lcms-file-store.\n",
      "537 matching rows found.\n",
      "# of deduplicated entries: 357\n",
      "***INFO*** Cleared 537 records from lcms_detections_chiral.\n",
      "Saved 357 rows to Postgres: lcms_detections_chiral.\n",
      "941 matching rows found.\n",
      "Updated WF10179_chiral_LCMSdetections.csv in S3 lcms-file-store.\n",
      "PLT18085 LCMS_FINAL\n",
      "# of unique enzymes: 114\n",
      "Number of wells in sequence update: 360\n",
      "548 matching rows found.\n",
      "# of deduplicated entries: 368\n",
      "***INFO*** Cleared 548 records from lcms_detections.\n",
      "Saved 368 rows to Postgres: lcms_detections.\n",
      "808 matching rows found.\n",
      "Updated WF10179_C18_LCMSdetections.csv in S3 lcms-file-store.\n",
      "548 matching rows found.\n",
      "# of deduplicated entries: 368\n",
      "***INFO*** Cleared 548 records from lcms_detections_chiral.\n",
      "Saved 368 rows to Postgres: lcms_detections_chiral.\n",
      "761 matching rows found.\n",
      "Updated WF10179_chiral_LCMSdetections.csv in S3 lcms-file-store.\n"
     ]
    }
   ],
   "source": [
    "for plate, plate_type in zip(plate_list, plate_type_list): \n",
    "    \n",
    "    print(plate, plate_type)\n",
    "    \n",
    "    # get sequences on plate\n",
    "    sequence_update = DetectionsSequenceUpdate()\n",
    "    sequence_update_single, sequence_update_multi, enzyme_dict = sequence_update.get_sequence_update(plate, reference_enzyme=reference_enzyme, enz_idx_to_use=-1)\n",
    "    print('Number of wells in sequence update:', len(sequence_update_single))\n",
    "    \n",
    "    ## update sequences in postgres\n",
    "    # HTS plate\n",
    "    if plate_type=='HTS':\n",
    "        # 1-sample detections table\n",
    "        sequence_update.update_table_with_sequences_in_postgres(plate, sequence_update_single, maldi_detections_columns, table='maldi_detections_1',\n",
    "                                               detections_type='maldi', save_csv_to_s3=True, suffix='-1')\n",
    "        # 2-sample detections table\n",
    "        sequence_update.update_table_with_sequences_in_postgres(plate, sequence_update_single, maldi_detections_columns, table='maldi_detections_2',\n",
    "                                               detections_type='maldi', save_csv_to_s3=True, suffix='-2')\n",
    "        \n",
    "    # LCMS plate\n",
    "    elif plate_type=='LCMS_FINAL':\n",
    "        try: \n",
    "            assert len(sequence_update_single) <= 384, \"Too many wells to be an LCMS plate\"\n",
    "\n",
    "            # C18 LCMS detections table\n",
    "            sequence_update.update_table_with_sequences_in_postgres(plate, sequence_update_single, lcms_detections_columns, table='lcms_detections', \n",
    "                                                   detections_type='lcms', save_csv_to_s3=True, suffix='')\n",
    "\n",
    "            # Chiral LCMS detections table\n",
    "            sequence_update.update_table_with_sequences_in_postgres(plate, sequence_update_single, lcms_detections_chiral_columns, table='lcms_detections_chiral', \n",
    "                                                   detections_type='lcms', save_csv_to_s3=True, suffix='')\n",
    "            \n",
    "        except AssertionError as msg:\n",
    "            print(msg)"
   ]
  },
  {
   "cell_type": "code",
   "execution_count": null,
   "id": "favorite-pencil",
   "metadata": {},
   "outputs": [],
   "source": []
  }
 ],
 "metadata": {
  "kernelspec": {
   "display_name": "Python 3 (ipykernel)",
   "language": "python",
   "name": "python3"
  },
  "language_info": {
   "codemirror_mode": {
    "name": "ipython",
    "version": 3
   },
   "file_extension": ".py",
   "mimetype": "text/x-python",
   "name": "python",
   "nbconvert_exporter": "python",
   "pygments_lexer": "ipython3",
   "version": "3.9.7"
  }
 },
 "nbformat": 4,
 "nbformat_minor": 5
}
